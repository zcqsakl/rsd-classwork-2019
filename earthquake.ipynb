{
 "cells": [
  {
   "cell_type": "markdown",
   "metadata": {},
   "source": [
    "<h1> Earthquake exercise <\\>"
   ]
  },
  {
   "cell_type": "code",
   "execution_count": 2,
   "metadata": {},
   "outputs": [
    {
     "data": {
      "text/plain": [
       "'{\"type\":\"FeatureCollection\",\"metadata\":{\"generated\":1571912167000,\"url\":\"https://earthquake.usgs.gov'"
      ]
     },
     "execution_count": 2,
     "metadata": {},
     "output_type": "execute_result"
    }
   ],
   "source": [
    "import requests\n",
    "quakes = requests.get(\"http://earthquake.usgs.gov/fdsnws/event/1/query.geojson\",\n",
    "                      params={\n",
    "                          'starttime': \"2000-01-01\",\n",
    "                          \"maxlatitude\": \"58.723\",\n",
    "                          \"minlatitude\": \"50.008\",\n",
    "                          \"maxlongitude\": \"1.67\",\n",
    "                          \"minlongitude\": \"-9.756\",\n",
    "                          \"minmagnitude\": \"1\",\n",
    "                          \"endtime\": \"2018-10-11\",\n",
    "                          \"orderby\": \"time-asc\"}\n",
    "                      )\n",
    "\n",
    "quakes.text[0:100]"
   ]
  },
  {
   "cell_type": "code",
   "execution_count": null,
   "metadata": {},
   "outputs": [],
   "source": [
    "import json\n",
    "\n",
    "json_request = "
   ]
  }
 ],
 "metadata": {
  "kernelspec": {
   "display_name": "Python 3",
   "language": "python",
   "name": "python3"
  },
  "language_info": {
   "codemirror_mode": {
    "name": "ipython",
    "version": 3
   },
   "file_extension": ".py",
   "mimetype": "text/x-python",
   "name": "python",
   "nbconvert_exporter": "python",
   "pygments_lexer": "ipython3",
   "version": "3.7.3"
  }
 },
 "nbformat": 4,
 "nbformat_minor": 4
}
